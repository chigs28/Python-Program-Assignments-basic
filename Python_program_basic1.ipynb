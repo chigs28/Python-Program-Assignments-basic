{
 "cells": [
  {
   "cell_type": "code",
   "execution_count": 1,
   "id": "531c6536",
   "metadata": {},
   "outputs": [
    {
     "name": "stdout",
     "output_type": "stream",
     "text": [
      "Hello Python\n"
     ]
    }
   ],
   "source": [
    "# 1. Write a Python program to print \"Hello Python\"?\n",
    "\n",
    "print(\"Hello Python\")"
   ]
  },
  {
   "cell_type": "code",
   "execution_count": 5,
   "id": "4aa626f3",
   "metadata": {},
   "outputs": [
    {
     "name": "stdout",
     "output_type": "stream",
     "text": [
      "Enter first no: 5\n",
      "Enter second no: 5\n",
      "addition of two numbers:  10.0\n",
      "division value:  2.5\n"
     ]
    }
   ],
   "source": [
    "# 2. Write a Python program to do arithmetical operations addition and division?\n",
    "\n",
    "a = float(input(\"Enter first no: \"))\n",
    "b = float(input(\"Enter second no: \"))\n",
    "\n",
    "addition = a + b\n",
    "print(\"addition of two numbers: \",addition)\n",
    "\n",
    "if (b !=0):\n",
    "    c = a/b\n",
    "    print (\"division value: \", division)\n",
    "else:\n",
    "    print(\"division value is infinity.\")"
   ]
  },
  {
   "cell_type": "code",
   "execution_count": 7,
   "id": "e1919557",
   "metadata": {},
   "outputs": [
    {
     "name": "stdout",
     "output_type": "stream",
     "text": [
      "Enter side 1: 3\n",
      "Enter side 2: 4\n",
      "Enter side 3: 5\n",
      "The area of the triangle is 6.000\n"
     ]
    }
   ],
   "source": [
    "# 3. Write a Python program to find the area of a triangle?\n",
    "\n",
    "a = float(input(\"Enter side 1: \"))\n",
    "b = float(input(\"Enter side 2: \"))\n",
    "c = float(input(\"Enter side 3: \"))\n",
    "\n",
    "# semi-perimeter\n",
    "s = (a + b + c) / 2\n",
    "\n",
    "# calculate the area\n",
    "area = ((s * (s-a) * (s-b) * (s-c)) ** 0.5)\n",
    "print('The area of the triangle is %0.3f' %area)"
   ]
  },
  {
   "cell_type": "code",
   "execution_count": 11,
   "id": "f13aff19",
   "metadata": {},
   "outputs": [
    {
     "name": "stdout",
     "output_type": "stream",
     "text": [
      "Enter side 1: 67\n",
      "Enter side 2: 89\n",
      "value of a after swapping: 89\n",
      "value of b after swapping :67\n"
     ]
    }
   ],
   "source": [
    "# Write a Python program to swap two variables?\n",
    "\n",
    "a = input(\"Enter side 1: \")\n",
    "b = input(\"Enter side 2: \")\n",
    "temp = a\n",
    "a = b\n",
    "b =temp\n",
    "\n",
    "print(\"value of a after swapping: {}\".format(a)) \n",
    "print(\"value of b after swapping :{}\".format(b))\n"
   ]
  },
  {
   "cell_type": "code",
   "execution_count": 14,
   "id": "f5d361c8",
   "metadata": {},
   "outputs": [
    {
     "name": "stdout",
     "output_type": "stream",
     "text": [
      "Random Number:  0.554257922195709\n"
     ]
    }
   ],
   "source": [
    "# Write a Python program to generate a random number?\n",
    "\n",
    "import random\n",
    "number = random.random()\n",
    "print(\"Random Number: \", number)"
   ]
  }
 ],
 "metadata": {
  "kernelspec": {
   "display_name": "Python 3 (ipykernel)",
   "language": "python",
   "name": "python3"
  },
  "language_info": {
   "codemirror_mode": {
    "name": "ipython",
    "version": 3
   },
   "file_extension": ".py",
   "mimetype": "text/x-python",
   "name": "python",
   "nbconvert_exporter": "python",
   "pygments_lexer": "ipython3",
   "version": "3.9.7"
  }
 },
 "nbformat": 4,
 "nbformat_minor": 5
}
