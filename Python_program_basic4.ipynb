{
 "cells": [
  {
   "cell_type": "code",
   "execution_count": 5,
   "id": "531c6536",
   "metadata": {},
   "outputs": [
    {
     "name": "stdout",
     "output_type": "stream",
     "text": [
      "Enter number whose factorial need to be calculated: 5\n",
      "factorial:  120\n"
     ]
    }
   ],
   "source": [
    "# 1. Write a Python Program to Find the Factorial of a Number?\n",
    "\n",
    "x = int(input(\"Enter number whose factorial need to be calculated: \"))\n",
    "\n",
    "if x > 1:\n",
    "    fact = 1\n",
    "    for i in range(1,x+1):\n",
    "        fact = fact * i\n",
    "    print(\"factorial: \", fact)\n",
    "elif x<0:\n",
    "    print(\"factorial doesn't exist for negative number\")\n",
    "    \n",
    "else:\n",
    "    fact = 1\n",
    "    print(\"factorial: \", fact)"
   ]
  },
  {
   "cell_type": "code",
   "execution_count": 1,
   "id": "4aa626f3",
   "metadata": {},
   "outputs": [
    {
     "name": "stdout",
     "output_type": "stream",
     "text": [
      "Enter no whose table required: 13\n",
      "multiplication table of 13.0 is:  13.0\n",
      "multiplication table of 13.0 is:  26.0\n",
      "multiplication table of 13.0 is:  39.0\n",
      "multiplication table of 13.0 is:  52.0\n",
      "multiplication table of 13.0 is:  65.0\n",
      "multiplication table of 13.0 is:  78.0\n",
      "multiplication table of 13.0 is:  91.0\n",
      "multiplication table of 13.0 is:  104.0\n",
      "multiplication table of 13.0 is:  117.0\n",
      "multiplication table of 13.0 is:  130.0\n"
     ]
    }
   ],
   "source": [
    "# 2. Write a Python Program to Display the multiplication Table?\n",
    "\n",
    "a = float(input(\"Enter no whose table required: \"))\n",
    "\n",
    "for i in range(1,11):\n",
    "    table = a * i\n",
    "    print(\"multiplication table of\", a,\"is: \",table )"
   ]
  },
  {
   "cell_type": "code",
   "execution_count": 18,
   "id": "a38dea4f",
   "metadata": {},
   "outputs": [
    {
     "name": "stdout",
     "output_type": "stream",
     "text": [
      "no of terms for Fibonacci sequence: 23\n",
      "0\n",
      "1\n",
      "1\n",
      "2\n",
      "3\n",
      "5\n",
      "8\n",
      "13\n",
      "21\n",
      "34\n",
      "55\n",
      "89\n",
      "144\n",
      "233\n",
      "377\n",
      "610\n",
      "987\n",
      "1597\n",
      "2584\n",
      "4181\n",
      "6765\n",
      "10946\n",
      "17711\n"
     ]
    }
   ],
   "source": [
    "# 3. Write a Python Program to Print the Fibonacci sequence?\n",
    "\n",
    "x = int(input(\"no of terms for Fibonacci sequence: \"))\n",
    "\n",
    "a=0\n",
    "b=1\n",
    "\n",
    "if x<= 0:\n",
    "    print(\"Enter positive number\")\n",
    "\n",
    "elif x == 1:\n",
    "    print(a)\n",
    "    \n",
    "else:\n",
    "    print(a)\n",
    "    print(b)\n",
    "    for i in range(2,x):\n",
    "        a,b = b, a+b\n",
    "        print(b)\n",
    "    \n",
    "\n"
   ]
  },
  {
   "cell_type": "code",
   "execution_count": 36,
   "id": "f13aff19",
   "metadata": {},
   "outputs": [
    {
     "name": "stdout",
     "output_type": "stream",
     "text": [
      "Enter any no: 8208\n",
      "8208 is an armstrong number\n"
     ]
    }
   ],
   "source": [
    "# 4. Write a Python Program to Check Armstrong Number?\n",
    "\n",
    "# A number of n-digits can be defined as an Armstrong number if and only if the sum of its digits powered \n",
    "# to n is equal to the number itself. \n",
    "# For example, 1634 is an Armstrong number as 1634 = 1^4 +6^4 +3^4 + 4^4\n",
    "\n",
    "number = int(input(\"Enter any no: \"))\n",
    "\n",
    "no_digits = len(str(number))\n",
    "no_digits\n",
    "\n",
    "addition =0\n",
    "temp = number\n",
    "while temp>0:\n",
    "    unit_digit = temp%10 \n",
    "    addition += unit_digit ** no_digits\n",
    "    temp = temp //10\n",
    "    \n",
    "if number == addition:\n",
    "    print(\"{} is an armstrong number\".format(number))\n",
    "else:\n",
    "    print(\"{} is not an armstrong number\".format(number))"
   ]
  },
  {
   "cell_type": "code",
   "execution_count": 30,
   "id": "f5d361c8",
   "metadata": {},
   "outputs": [
    {
     "name": "stdout",
     "output_type": "stream",
     "text": [
      "Enter lower limit no: 100\n",
      "Enter upper limit no: 10000\n",
      "153\n",
      "370\n",
      "371\n",
      "407\n",
      "1634\n",
      "8208\n",
      "9474\n"
     ]
    }
   ],
   "source": [
    "# 5. Write a Python Program to Find Armstrong Number in an Interval?\n",
    "\n",
    "lower_limit = int(input(\"Enter lower limit no: \"))\n",
    "upper_limit = int(input(\"Enter upper limit no: \"))\n",
    "\n",
    "for number in range(lower_limit, upper_limit+1):\n",
    "    no_digits = len(str(number))\n",
    "    addition =0\n",
    "    temp = number\n",
    "    while temp>0:\n",
    "        unit_digit = temp%10 \n",
    "        addition += unit_digit ** no_digits\n",
    "        temp = temp //10\n",
    "    if number == addition:\n",
    "        print(number)"
   ]
  },
  {
   "cell_type": "code",
   "execution_count": 34,
   "id": "39560f9d",
   "metadata": {},
   "outputs": [
    {
     "name": "stdout",
     "output_type": "stream",
     "text": [
      "Enter first n natural no size: 100\n",
      "5050\n"
     ]
    }
   ],
   "source": [
    "# 6. Write a Python Program to Find the Sum of Natural Numbers?\n",
    "\n",
    "n = int(input(\"Enter first n natural no size: \"))\n",
    "\n",
    "sum =0\n",
    "for i in range(1,n+1):\n",
    "    sum += i\n",
    "print(sum)\n"
   ]
  }
 ],
 "metadata": {
  "kernelspec": {
   "display_name": "Python 3 (ipykernel)",
   "language": "python",
   "name": "python3"
  },
  "language_info": {
   "codemirror_mode": {
    "name": "ipython",
    "version": 3
   },
   "file_extension": ".py",
   "mimetype": "text/x-python",
   "name": "python",
   "nbconvert_exporter": "python",
   "pygments_lexer": "ipython3",
   "version": "3.9.7"
  }
 },
 "nbformat": 4,
 "nbformat_minor": 5
}
