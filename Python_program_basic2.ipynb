{
 "cells": [
  {
   "cell_type": "code",
   "execution_count": 1,
   "id": "6c7175b9",
   "metadata": {},
   "outputs": [
    {
     "name": "stdout",
     "output_type": "stream",
     "text": [
      "Enter the value1\n",
      "1.000 km is equal to 0.621 miles\n"
     ]
    }
   ],
   "source": [
    "# 1. Write a Python program to convert kilometers to miles?\n",
    "\n",
    "km = float(input(\"Enter the value: \"))\n",
    "\n",
    "miles = 0.621371\n",
    "print('%0.3f km is equal to %0.3f miles' %(km,miles))"
   ]
  },
  {
   "cell_type": "code",
   "execution_count": 5,
   "id": "2b196f2e",
   "metadata": {},
   "outputs": [
    {
     "name": "stdout",
     "output_type": "stream",
     "text": [
      "Enter the value in degree: 37\n",
      "37.00 degree celcius is equal to 98.60 degree fahrenheit\n"
     ]
    }
   ],
   "source": [
    "# 2. Write a Python program to convert Celsius to Fahrenheit?\n",
    "\n",
    "celsius = float(input(\"Enter the value in degree: \"))\n",
    "fahrenheit = (celsius * 1.8) + 32\n",
    "print('%0.2f degree celcius is equal to %0.2f degree fahrenheit' %(celsius,fahrenheit))"
   ]
  },
  {
   "cell_type": "code",
   "execution_count": 8,
   "id": "993ddfc0",
   "metadata": {},
   "outputs": [
    {
     "name": "stdout",
     "output_type": "stream",
     "text": [
      "Enter the year: 2015\n",
      "Enter the month: 5\n",
      "                                  2015\n",
      "\n",
      "      January                   February                   March\n",
      "Mo Tu We Th Fr Sa Su      Mo Tu We Th Fr Sa Su      Mo Tu We Th Fr Sa Su\n",
      "          1  2  3  4                         1                         1\n",
      " 5  6  7  8  9 10 11       2  3  4  5  6  7  8       2  3  4  5  6  7  8\n",
      "12 13 14 15 16 17 18       9 10 11 12 13 14 15       9 10 11 12 13 14 15\n",
      "19 20 21 22 23 24 25      16 17 18 19 20 21 22      16 17 18 19 20 21 22\n",
      "26 27 28 29 30 31         23 24 25 26 27 28         23 24 25 26 27 28 29\n",
      "                                                    30 31\n",
      "\n",
      "       April                      May                       June\n",
      "Mo Tu We Th Fr Sa Su      Mo Tu We Th Fr Sa Su      Mo Tu We Th Fr Sa Su\n",
      "       1  2  3  4  5                   1  2  3       1  2  3  4  5  6  7\n",
      " 6  7  8  9 10 11 12       4  5  6  7  8  9 10       8  9 10 11 12 13 14\n",
      "13 14 15 16 17 18 19      11 12 13 14 15 16 17      15 16 17 18 19 20 21\n",
      "20 21 22 23 24 25 26      18 19 20 21 22 23 24      22 23 24 25 26 27 28\n",
      "27 28 29 30               25 26 27 28 29 30 31      29 30\n",
      "\n",
      "        July                     August                  September\n",
      "Mo Tu We Th Fr Sa Su      Mo Tu We Th Fr Sa Su      Mo Tu We Th Fr Sa Su\n",
      "       1  2  3  4  5                      1  2          1  2  3  4  5  6\n",
      " 6  7  8  9 10 11 12       3  4  5  6  7  8  9       7  8  9 10 11 12 13\n",
      "13 14 15 16 17 18 19      10 11 12 13 14 15 16      14 15 16 17 18 19 20\n",
      "20 21 22 23 24 25 26      17 18 19 20 21 22 23      21 22 23 24 25 26 27\n",
      "27 28 29 30 31            24 25 26 27 28 29 30      28 29 30\n",
      "                          31\n",
      "\n",
      "      October                   November                  December\n",
      "Mo Tu We Th Fr Sa Su      Mo Tu We Th Fr Sa Su      Mo Tu We Th Fr Sa Su\n",
      "          1  2  3  4                         1          1  2  3  4  5  6\n",
      " 5  6  7  8  9 10 11       2  3  4  5  6  7  8       7  8  9 10 11 12 13\n",
      "12 13 14 15 16 17 18       9 10 11 12 13 14 15      14 15 16 17 18 19 20\n",
      "19 20 21 22 23 24 25      16 17 18 19 20 21 22      21 22 23 24 25 26 27\n",
      "26 27 28 29 30 31         23 24 25 26 27 28 29      28 29 30 31\n",
      "                          30\n",
      "\n",
      "      May 2015\n",
      "Mo Tu We Th Fr Sa Su\n",
      "             1  2  3\n",
      " 4  5  6  7  8  9 10\n",
      "11 12 13 14 15 16 17\n",
      "18 19 20 21 22 23 24\n",
      "25 26 27 28 29 30 31\n",
      "\n"
     ]
    }
   ],
   "source": [
    "# 3. Write a Python program to display calendar?\n",
    "\n",
    "import calendar\n",
    " \n",
    "year = int(input(\"Enter the year: \"))\n",
    "month = int(input(\"Enter the month: \"))\n",
    "\n",
    "# display the calendar for a single year\n",
    "\n",
    "print(calendar.calendar(year))\n",
    "\n",
    "# display the calendar for a single month\n",
    "print(calendar.month(year,month))"
   ]
  },
  {
   "cell_type": "code",
   "execution_count": 5,
   "id": "af00146f",
   "metadata": {},
   "outputs": [
    {
     "name": "stdout",
     "output_type": "stream",
     "text": [
      "Enter the value a: 1\n",
      "Enter the value b: 7\n",
      "Enter the value c: 10\n",
      "roots are real and distinct\n",
      "solutions are (-2+0j) and (-5+0j)\n"
     ]
    }
   ],
   "source": [
    "# 4. Write a Python program to solve quadratic equation?\n",
    "\n",
    "import cmath\n",
    "a = float(input(\"Enter the value a: \")) \n",
    "b = float(input(\"Enter the value b: \"))  \n",
    "c = float(input(\"Enter the value c: \"))  \n",
    "\n",
    "disc = (b**2 - 4 *a*c)\n",
    "\n",
    "x1 = (-b + cmath.sqrt(disc))/(2*a)\n",
    "x2 = (-b - cmath.sqrt(disc))/(2*a)\n",
    "\n",
    "if a==0:\n",
    "    print(\"not a quadratic equation\")\n",
    "\n",
    "else:\n",
    "    \n",
    "    if disc<0:\n",
    "        print(\"roots are imaginary and not real\")\n",
    "        print(\"solutions are {} and {}\".format(x1,x2))\n",
    "\n",
    "    elif disc==0:\n",
    "        print(\"roots are real and equal\")\n",
    "        print(\"solutions are {} and {}\".format(x1,x2))\n",
    "\n",
    "    else:\n",
    "        print(\"roots are real and distinct\")\n",
    "        print(\"solutions are {} and {}\".format(x1,x2))\n",
    "    \n",
    "    "
   ]
  },
  {
   "cell_type": "code",
   "execution_count": 6,
   "id": "2e1e9ca5",
   "metadata": {},
   "outputs": [
    {
     "name": "stdout",
     "output_type": "stream",
     "text": [
      "enter first variable: rachit\n",
      "enter second variable: naveen\n",
      "value before swapping: a: rachit and b: naveen\n",
      "value after swapping: a: naveen and b: rachit\n"
     ]
    }
   ],
   "source": [
    "# 5. Write a Python program to swap two variables without temp variable?\n",
    "\n",
    "a = input(\"enter first variable: \")\n",
    "b = input(\"enter second variable: \")\n",
    "\n",
    "print(\"value before swapping: a: {} and b: {}\".format(a,b))\n",
    "\n",
    "a,b = b,a\n",
    "\n",
    "print((\"value after swapping: a: {} and b: {}\".format(a,b)))"
   ]
  },
  {
   "cell_type": "code",
   "execution_count": null,
   "id": "00818747",
   "metadata": {},
   "outputs": [],
   "source": []
  }
 ],
 "metadata": {
  "kernelspec": {
   "display_name": "Python 3 (ipykernel)",
   "language": "python",
   "name": "python3"
  },
  "language_info": {
   "codemirror_mode": {
    "name": "ipython",
    "version": 3
   },
   "file_extension": ".py",
   "mimetype": "text/x-python",
   "name": "python",
   "nbconvert_exporter": "python",
   "pygments_lexer": "ipython3",
   "version": "3.9.7"
  }
 },
 "nbformat": 4,
 "nbformat_minor": 5
}
